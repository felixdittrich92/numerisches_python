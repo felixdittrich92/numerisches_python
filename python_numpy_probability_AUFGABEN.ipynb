{
 "cells": [
  {
   "cell_type": "markdown",
   "metadata": {},
   "source": [
    "## Aufgaben zum Kapitel \"Statistik und Wahrscheinlichkeiten\""
   ]
  },
  {
   "cell_type": "code",
   "execution_count": 1,
   "metadata": {},
   "outputs": [],
   "source": [
    "# invisible\n",
    "import numpy as np\n",
    "np.core.arrayprint._line_width = 65\n",
    "import matplotlib as mpl\n",
    "mpl.rcParams['figure.dpi'] = 300"
   ]
  },
  {
   "cell_type": "code",
   "execution_count": 13,
   "metadata": {},
   "outputs": [],
   "source": [
    "def find_interval(x, \n",
    "                  partition, \n",
    "                  endpoints=True):\n",
    "    \"\"\" \n",
    "    find_interval -> i\n",
    "    Falls endpoints gleich True ist, ist \"i\" der Index für den gilt\n",
    "    partition[i] < x < partition[i+1] gilt, falls solch ein Index \n",
    "    existiert. -1 otherwise\n",
    "        \n",
    "    Falls endpoints gleich False ist, ist \"i\" der kleinste\n",
    "    Index für den x < partition[i] gilt. Falls kein solcher\n",
    "    Index existiert, len(partition) auf i gesetzt.\n",
    "    \"\"\"\n",
    "    for i in range(0, len(partition)):\n",
    "        if x < partition[i]:\n",
    "            return i-1 if endpoints else i\n",
    "    return -1 if endpoints else len(partition)"
   ]
  },
  {
   "cell_type": "code",
   "execution_count": 14,
   "metadata": {},
   "outputs": [],
   "source": [
    "import numpy as np\n",
    "\n",
    "def weighted_choice(sequence, weights):\n",
    "    \"\"\" \n",
    "    weighted_choice wählt ein Zufallselement aus \n",
    "    'sequence' aus unter Berücksichtigung der\n",
    "    List bzw. Tupel von Gewichten\n",
    "    \"\"\"\n",
    "    x = np.random.random()\n",
    "    cum_weights = [0] + list(np.cumsum(weights))\n",
    "    index = find_interval(x, cum_weights)\n",
    "    return sequence[index]\n"
   ]
  },
  {
   "cell_type": "code",
   "execution_count": 20,
   "metadata": {},
   "outputs": [],
   "source": [
    "def weighted_sample(population, weights, k):\n",
    "    \"\"\" \n",
    "    weighted_sample zieht eine Zufallsstichprobe der\n",
    "    Länge k aus der Sequenz 'population' entsprechend\n",
    "    der Liste der Gewichte.\n",
    "    \"\"\"\n",
    "    sample = set()\n",
    "    population = list(population)\n",
    "    weights = list(weights)\n",
    "    while len(sample) < k:\n",
    "        choice = weighted_choice(population, weights)\n",
    "        sample.add(choice)\n",
    "        index = population.index(choice)\n",
    "        weights.pop(index)\n",
    "        population.remove(choice)\n",
    "        weights = [ x / sum(weights) for x in weights]\n",
    "    return list(sample)\n"
   ]
  },
  {
   "cell_type": "code",
   "execution_count": 21,
   "metadata": {},
   "outputs": [],
   "source": [
    "def weighted_sample_alternative(population, weights, k):\n",
    "    \"\"\" \n",
    "    weighted_sample zieht eine Zufallsstichprobe der\n",
    "    Länge k aus der Sequenz 'population' entsprechend\n",
    "    der Liste der Gewichte.\n",
    "    \"\"\"\n",
    "    sample = set()\n",
    "    population = list(population)\n",
    "    weights = list(weights)\n",
    "    while len(sample) < k:\n",
    "        choice = weighted_choice(population, weights)\n",
    "        if choice not in sample:\n",
    "            sample.add(choice)\n",
    "    return list(sample)"
   ]
  },
  {
   "cell_type": "markdown",
   "metadata": {},
   "source": [
    "1. Aufgabe.\n",
    "\n",
    "Wir starten mit einer kleinen Aufgabe mit Würfeln. Beweisen Sie empirisch -- indem Sie ein Simulationsprogramm schreiben -- dass die Wahrscheinlichkeit für das kombinierte Ereignis \"Egal welche Zahl gewürfelt wurde-\" (E) und \"Eine Zahl größer als 2 wurde gewürfelt.\" 1/3 ist."
   ]
  },
  {
   "cell_type": "code",
   "execution_count": 15,
   "metadata": {},
   "outputs": [
    {
     "name": "stdout",
     "output_type": "stream",
     "text": [
      "0.4983\n",
      "0.6658\n",
      "0.3281\n"
     ]
    }
   ],
   "source": [
    "from random import randint\n",
    "\n",
    "outcomes = [ randint(1, 6) for _ in range(10000)]\n",
    "\n",
    "even_pips = [ x for x in outcomes if x % 2 == 0]\n",
    "greater_two = [ x for x in outcomes if x > 2]\n",
    "\n",
    "combined = [ x for x in outcomes if x % 2 == 0 and x > 2]\n",
    "\n",
    "print(len(even_pips) / len(outcomes))\n",
    "print(len(greater_two) / len(outcomes))\n",
    "print(len(combined) / len(outcomes))\n"
   ]
  },
  {
   "cell_type": "markdown",
   "metadata": {},
   "source": [
    "2. Aufgabe:\n",
    "\n",
    "Die Datei [\"universities_uk.txt\"](universities_uk.txt) beinhaltet eine Liste der Universitäten im Vereinigten Königreich zur Einschreibung zwischen 2013-2014. (Quelle: [Wikipedia](https://en.wikipedia.org/wiki/List_of_universities_in_the_United_Kingdom_by_enrollment#cite_note-1)):\n",
    "\n",
    "\n",
    "```\n",
    "Rank Institution Undergraduates Postgraduates Total students\n",
    "1 Open University in England \t112,535 \t10,955 \t123,490\n",
    "2 University of Manchester \t26,485 \t11,440 \t37,925\n",
    "3 University of Nottingham \t24,885 \t8,385 \t33,270\n",
    "4 Sheffield Hallam University \t25,985 \t7,115 \t33,100\n",
    "5 University of Birmingham \t19,185 \t13,150 \t32,335\n",
    "6 Manchester Metropolitan University \t26,635 \t5,525 \t32,160\n",
    "7 University of Leeds \t23,265 \t7,710 \t30,975\n",
    "8 Cardiff University \t21,495 \t8,685 \t30,180\n",
    "9 University of South Wales \t23,890 \t5,310 \t29,195\n",
    "...\n",
    "```\n",
    "\n",
    "Schreiben Sie eine Funktion, die ein Tupel (universities, enrollments, total_number_of_students) zurückliefert mit:\n",
    "\n",
    "<ul>\n",
    "<li> universities: Liste der Namen der Universitäten\n",
    "<li> enrollments: zugehörige Liste mit Einschreibungen\n",
    "<li> total_number_of_students: Über alle Universitäten\n",
    "</ul>\n",
    "<br>\n",
    "Jetzt können Sie 100000 fiktive Studenten immatrikulieren mit einer Wahrscheinlichkeit, die den \"echten\" Einschreibungen entspricht."
   ]
  },
  {
   "cell_type": "markdown",
   "metadata": {},
   "source": [
    "Wir schreiben zuerst die Funktion \"process_datafile\", um die Daten aus der Datei zu verarbeiten:\n"
   ]
  },
  {
   "cell_type": "code",
   "execution_count": 16,
   "metadata": {},
   "outputs": [],
   "source": [
    "def process_datafile(filename):\n",
    "    \"\"\" process_datafile -> (universities, \n",
    "                             enrollments, \n",
    "                             total_number_of_students) \n",
    "        universities: list of University names\n",
    "        enrollments: corresponding list with enrollments\n",
    "        total_number_of_students: over all universities\n",
    "    \"\"\"\n",
    "\n",
    "    universities = []\n",
    "    enrollments = []\n",
    "    with open(filename) as fh:\n",
    "        total_number_of_students = 0\n",
    "        fh.readline() # get rid of descriptive first line\n",
    "        for line in fh:\n",
    "             line = line.strip()\n",
    "             *praefix, under, post, total = line.rsplit()\n",
    "             university = praefix[1:]\n",
    "             total = int(total.replace(\",\", \"\"))\n",
    "             enrollments.append(total)\n",
    "             universities.append(\" \".join(university))\n",
    "             total_number_of_students += total\n",
    "    return (universities, enrollments, total_number_of_students)"
   ]
  },
  {
   "cell_type": "markdown",
   "metadata": {},
   "source": [
    "Lassen wir die Funktion laufen und prüfen das Ergebnis:"
   ]
  },
  {
   "cell_type": "code",
   "execution_count": 17,
   "metadata": {},
   "outputs": [
    {
     "name": "stdout",
     "output_type": "stream",
     "text": [
      "Open University in England: 123490\n",
      "University of Manchester: 37925\n",
      "University of Nottingham: 33270\n",
      "Sheffield Hallam University: 33100\n",
      "University of Birmingham: 32335\n",
      "Manchester Metropolitan University: 32160\n",
      "University of Leeds: 30975\n",
      "Cardiff University: 30180\n",
      "University of South Wales: 29195\n",
      "University College London: 28430\n",
      "King's College London: 27645\n",
      "University of Edinburgh: 27625\n",
      "Northumbria University: 27565\n",
      "University of Glasgow: 27390\n",
      "Number of students enrolled in the UK:  2299380\n"
     ]
    }
   ],
   "source": [
    "universities, enrollments, total_students = \\\n",
    "                       process_datafile(\"universities_uk.txt\")\n",
    "\n",
    "for i in range(14):\n",
    "    print(universities[i], end=\": \")\n",
    "    print(enrollments[i])\n",
    "print(\"Number of students enrolled in the UK: \", total_students)"
   ]
  },
  {
   "cell_type": "markdown",
   "metadata": {},
   "source": [
    "Wir wollen einen virtuellen Studenten in eine zufällige Universität einschreiben. Um eine gewichtete Liste zu erhalten, die für die ```weighted_choice``` geeignet ist, müssen wir die Werte der Liste ```enrollments``` normalisieren:"
   ]
  },
  {
   "cell_type": "code",
   "execution_count": 18,
   "metadata": {},
   "outputs": [
    {
     "name": "stdout",
     "output_type": "stream",
     "text": [
      "Birmingham City University\n"
     ]
    }
   ],
   "source": [
    "normalized_enrollments = [ students / total_students \\\n",
    "                          for students in enrollments]\n",
    "\n",
    "# enrolling a virtual student:\n",
    "print(weighted_choice(universities, normalized_enrollments))"
   ]
  },
  {
   "cell_type": "markdown",
   "metadata": {},
   "source": [
    "Die Aufgabe war 100,000 fiktive Studenten zu \"immatrikulieren\".\n",
    "Dies kann mit einer Schleife einfach durchgeführt werden:"
   ]
  },
  {
   "cell_type": "code",
   "execution_count": 23,
   "metadata": {},
   "outputs": [
    {
     "name": "stdout",
     "output_type": "stream",
     "text": [
      "[ ('Open University in England', 5314),\n",
      "  ('University of Manchester', 1644),\n",
      "  ('University of Birmingham', 1444),\n",
      "  ('Sheffield Hallam University', 1411),\n",
      "  ('Manchester Metropolitan University', 1408),\n",
      "  ('University of Nottingham', 1384),\n",
      "  ('University of Leeds', 1346),\n",
      "  ('University of South Wales', 1308),\n",
      "  ('Cardiff University', 1250),\n",
      "  ('University of Edinburgh', 1227),\n",
      "  ('University of Plymouth', 1222),\n",
      "  (\"King's College London\", 1216),\n",
      "  ('University of Central Lancashire', 1202),\n",
      "  ('University College London', 1201),\n",
      "  ('University of the West of England', 1199),\n",
      "  ('Northumbria University', 1179),\n",
      "  ('University of Glasgow', 1175),\n",
      "  ('University of Sheffield', 1160),\n",
      "  ('Nottingham Trent University', 1139),\n",
      "  ('University of Oxford', 1127)]\n"
     ]
    }
   ],
   "source": [
    "# prog4book\"\n",
    "from collections import Counter\n",
    "from pprint import pprint # schöne Print-Ausgabe\n",
    "\n",
    "outcomes = []\n",
    "n = 100000\n",
    "for i in range(n):\n",
    "    outcomes.append(weighted_choice(universities, \n",
    "                                    normalized_enrollments))\n",
    "\n",
    "c = Counter(outcomes)\n",
    "    \n",
    "pprint(c.most_common(20), indent=2, width=70)"
   ]
  },
  {
   "cell_type": "markdown",
   "metadata": {},
   "source": [
    "3. Aufgabe:\n",
    "\n",
    "In dieser Aufgabe wollen wir eine Zeitreise unternehmen. Wir begeben uns  zurück in das antike Pythonia (Πηθωνια). Es war in der Zeit, in der der König Pysseus als gütiger Diktator regierte.\n",
    "Jene Zeit, als Pysseus seine Botschafter aussandte, um durch die Welt zu reisen und zu verkünden, dass es für seine Prinzen Anacondos (Ανακονδος), Cobrion (Κομπριον), Boatos (Μποατος) und Addokles (Ανδοκλης) an der Zeit sei zu heiraten. Um die geeigneten Kandidatinnen zu finden, veranstaltete Pysseus einen Programmier-Wettbewerb zwischen den ebenso holden wie tapferen Amazonen, besser bekannt als Pythanier aus Pythonia. 11 Amazonen gelang es, in diesem Programmierwettbewerb zu bestehen, wohl auch weil sie die damals noch junge Programmiersprache Python benutzt hatten:\n",
    "\n",
    "1. Die ätherische Airla (Αιρλα)\n",
    "2. Barbara (Βαρβαρα), die Eine aus dem fremden Land\n",
    "3. Eos (Ηως), sieht in der Dämmerung göttlich aus\n",
    "4. Die süße Glykeria (Γλυκερια)\n",
    "5. Die anmutige Hanna (Αννα)\n",
    "6. Helen (Ελενη), das Licht in der Dunkelheit\n",
    "7. Der gute Engel Agathangelos (Αγαθαγγελος)\n",
    "8. Die violett getönte Wolke Iokaste (Ιοκαστη)\n",
    "9. Medousa (Μεδουσα), die Wächterin\n",
    "10. Die selbstbestimmende Sofronia (Σωφρονια)\n",
    "11. Andromeda (Ανδρομεδα), die eine, die wie eine Mann oder ein Krieger denkt\n",
    "\n",
    "Das Los sollte nun entscheiden, welche vier zu Prinzessinnen würden. Zu Beginn hatten alle die gleiche Chance gezogen zu werden. Aus Gründen, die heute nicht mehr bekannt sind, wusste Pysseus jedoch, dass sich die Wahrscheinlichkeiten mit jedem neuen Tag änderten: Sie sank um 1/13 für die ersten 7 Amazonen und stieg um 1/12 für die letzten 4 Amazonen.\n",
    "Da die letzten vier der Liste auch seinen persönlichen Wünschen entsprachen, beschloss er die Lotterie ein paar Tage in die Zukunft zu  verschieben.\n",
    "\n",
    "Wie lange musste der König warten, bis er zu 90% sicher sein konnte, dass seine Prinzen Anacondas, Cobrion, Boatos und Addokles die Amazonen Iokaste, Medouse, Sofronia und Andromeda heiraten würden?"
   ]
  },
  {
   "cell_type": "markdown",
   "metadata": {},
   "source": [
    "Die Sammlung der Amazonen ist als Liste implementiert, während für die Menge aus Pysseusses Favoritinnen auswählen.\n",
    "Die Gewichtung liegt zu Beginn bei 1/11 für alle, d.h. 1/len(amazons).\n",
    "\n",
    "Jeder Schleifen-Durchlauf entspricht einem neuen Tag. Jedes Mal, wenn wir einen neuen Durchlauf starten, ziehen wir ```n``` Samples aus den Pythoniern, um das Verhältnis zu berechnen, wie oft die Sample gleich den Favoritinnen des Königs, geteilt durch die Häufigkeit, wie oft die Sample nicht der Idee einer Schwiegertochter entspricht. Dies entspricht der Wahrscheinlichkeit ```prob```. Wir stoppen das erste Mal, wenn die Wahrscheinlichkeit bei 0.9 oder größer liegt.\n",
    "\n",
    "Die beiden Funktionen ```weighted_same``` und ```weighted_same_alternative``` lassen sich für die Ziehung verwenden."
   ]
  },
  {
   "cell_type": "code",
   "execution_count": 24,
   "metadata": {
    "scrolled": true
   },
   "outputs": [
    {
     "name": "stdout",
     "output_type": "stream",
     "text": [
      "10.60157794697443\n",
      "Number of days, he has to wait:  33\n"
     ]
    }
   ],
   "source": [
    "import time\n",
    "\n",
    "amazons = [\"Airla\", \"Barbara\", \"Eos\",\n",
    "           \"Glykeria\", \"Hanna\", \"Helen\",\n",
    "           \"Agathangelos\", \"Iokaste\", \n",
    "           \"Medousa\", \"Sofronia\", \n",
    "           \"Andromeda\"]\n",
    "\n",
    "weights = [ 1/len(amazons) for _ in range(len(amazons)) ]\n",
    "\n",
    "Pytheusses_favorites = {\"Iokaste\", \"Medousa\", \n",
    "                        \"Sofronia\", \"Andromeda\"}\n",
    "n = 1000\n",
    "counter = 0\n",
    "\n",
    "prob = 1 / 330\n",
    "days = 0\n",
    "factor1 = 1 / 13\n",
    "factor2 = 1 / 12\n",
    "\n",
    "start = time.perf_counter()\n",
    "while prob < 0.9:\n",
    "    for i in range(n):\n",
    "        the_chosen_ones = weighted_sample_alternative(amazons, \n",
    "                                                      weights, \n",
    "                                                      4)\n",
    "        if set(the_chosen_ones) == Pytheusses_favorites:\n",
    "            counter += 1\n",
    "    prob = counter / n\n",
    "    counter = 0\n",
    "    weights[:7] = [ p - p*factor1 for p in weights[:7] ]\n",
    "    weights[7:] = [ p + p*factor2 for p in weights[7:] ]\n",
    "    weights = [ x / sum(weights) for x in weights]\n",
    "    days += 1\n",
    "print(time.perf_counter() - start)\n",
    "\n",
    "print(\"Number of days, he has to wait: \", days)\n"
   ]
  },
  {
   "cell_type": "markdown",
   "metadata": {},
   "source": [
    "Die Werte für die Anzahl der Tage weichen ab, wenn n nicht groß genug ist.\n",
    "\n",
    "Der folgende Code ist die Lösung ohne Rundungsfehler. Wir verwenden ```Fraction``` aus dem Modul ```fractions```."
   ]
  },
  {
   "cell_type": "code",
   "execution_count": 25,
   "metadata": {},
   "outputs": [
    {
     "name": "stdout",
     "output_type": "stream",
     "text": [
      "89.45118331699632\n",
      "Number of days, he has to wait:  32\n"
     ]
    }
   ],
   "source": [
    "import time\n",
    "from fractions import Fraction\n",
    "\n",
    "\n",
    "amazons = [\"Airla\", \"Barbara\", \"Eos\",\n",
    "           \"Glykeria\", \"Hanna\", \"Helen\",\n",
    "           \"Agathangelos\", \"Iokaste\", \n",
    "           \"Medousa\", \"Sofronia\", \n",
    "           \"Andromeda\"]\n",
    "\n",
    "weights = [ Fraction(1, 11) for _ in range(len(amazons)) ]\n",
    "\n",
    "Pytheusses_favorites = {\"Iokaste\", \"Medousa\", \n",
    "                        \"Sofronia\", \"Andromeda\"}\n",
    "n = 1000\n",
    "counter = 0\n",
    "\n",
    "prob = Fraction(1, 330)\n",
    "days = 0\n",
    "factor1 = Fraction(1, 13)\n",
    "factor2 = Fraction(1, 12)\n",
    "\n",
    "start = time.perf_counter()\n",
    "while prob < 0.9:\n",
    "    #print(prob)\n",
    "    for i in range(n):\n",
    "        the_chosen_ones = weighted_sample_alternative(amazons, weights, 4)\n",
    "        if set(the_chosen_ones) == Pytheusses_favorites:\n",
    "            counter += 1\n",
    "    prob = Fraction(counter, n)\n",
    "    counter = 0\n",
    "    weights[:7] = [ p - p*factor1 for p in weights[:7] ]\n",
    "    weights[7:] = [ p + p*factor2 for p in weights[7:] ]\n",
    "    weights = [ x / sum(weights) for x in weights]\n",
    "    days += 1\n",
    "print(time.perf_counter() - start)\n",
    "\n",
    "print(\"Number of days, he has to wait: \", days)"
   ]
  },
  {
   "cell_type": "markdown",
   "metadata": {},
   "source": [
    "Wir können sehen, dass die Lösung mit ```fractions``` schön aber langsam ist.\n",
    "Dabei spielt die Präzision in unserem Fall keine Rolle.\n",
    "\n",
    "Jedoch haben wir die Leistung von Python nicht genutzt.\n",
    "Das machen wir in der nächsten Implementierung:"
   ]
  },
  {
   "cell_type": "code",
   "execution_count": 26,
   "metadata": {},
   "outputs": [
    {
     "name": "stdout",
     "output_type": "stream",
     "text": [
      "9.077820878999773\n",
      "Number of days, he has to wait:  33\n"
     ]
    }
   ],
   "source": [
    "import time\n",
    "import numpy as np\n",
    "\n",
    "amazons = [\"Airla\", \"Barbara\", \"Eos\",\n",
    "           \"Glykeria\", \"Hanna\", \"Helen\",\n",
    "           \"Agathangelos\", \"Iokaste\", \n",
    "           \"Medousa\", \"Sofronia\", \n",
    "           \"Andromeda\"]\n",
    "\n",
    "weights = np.full(11, 1/len(amazons))\n",
    "\n",
    "\n",
    "Pytheusses_favorites = {\"Iokaste\", \"Medousa\", \n",
    "                        \"Sofronia\", \"Andromeda\"}\n",
    "\n",
    "\n",
    "n = 1000\n",
    "counter = 0\n",
    "\n",
    "prob = 1 / 330\n",
    "days = 0\n",
    "factor1 = 1 / 13\n",
    "factor2 = 1 / 12\n",
    "\n",
    "start = time.perf_counter()\n",
    "while prob < 0.9:\n",
    "    for i in range(n):\n",
    "        the_chosen_ones = weighted_sample_alternative(amazons, \n",
    "                                                      weights, \n",
    "                                                      4)\n",
    "        if set(the_chosen_ones) == Pytheusses_favorites:\n",
    "            counter += 1\n",
    "    prob = counter / n\n",
    "    counter = 0\n",
    "    weights[:7] = weights[:7] - weights[:7] * factor1\n",
    "    weights[7:] = weights[7:] + weights[7:] * factor2\n",
    "    weights = weights / np.sum(weights)\n",
    "    #print(weights)\n",
    "    days += 1\n",
    "print(time.perf_counter() - start)\n",
    "\n",
    "print(\"Number of days, he has to wait: \", days)"
   ]
  }
 ],
 "metadata": {
  "anaconda-cloud": {},
  "kernelspec": {
   "display_name": "Python 3",
   "language": "python",
   "name": "python3"
  },
  "language_info": {
   "codemirror_mode": {
    "name": "ipython",
    "version": 3
   },
   "file_extension": ".py",
   "mimetype": "text/x-python",
   "name": "python",
   "nbconvert_exporter": "python",
   "pygments_lexer": "ipython3",
   "version": "3.6.5"
  },
  "toc": {
   "base_numbering": 1,
   "nav_menu": {},
   "number_sections": true,
   "sideBar": true,
   "skip_h1_title": false,
   "title_cell": "Table of Contents",
   "title_sidebar": "Contents",
   "toc_cell": false,
   "toc_position": {},
   "toc_section_display": true,
   "toc_window_display": false
  }
 },
 "nbformat": 4,
 "nbformat_minor": 2
}
