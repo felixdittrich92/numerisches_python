{
 "cells": [
  {
   "cell_type": "markdown",
   "metadata": {},
   "source": [
    "## Aufgaben zum Kapitel \"Datentyp-Objekt: dtype\"\n",
    "\n",
    "1. Definiere ein strukturiertes Array mit zwei Spalten. Die erste Spalte soll die ID eines Produktes enthalten, die sich als int32 darstellen lässt. Die zweite Spalte soll den Preis dieses Produktes enthalten.\n",
    "\n",
    "    Wie kann man die Spalte mit den Produkt-IDs ausgeben?\n",
    "\n",
    "    Wie kann man die erste Zeile ausgeben?\n",
    "\n",
    "    Wie kann man auf den dritten Artikel zugreifen, also den Artikels in der 3.  Zeile?"
   ]
  },
  {
   "cell_type": "code",
   "execution_count": 11,
   "metadata": {},
   "outputs": [
    {
     "name": "stdout",
     "output_type": "stream",
     "text": [
      "(45765, 439.93)\n",
      "[34765 45765 99661 12129]\n",
      "344.19\n",
      "[(34765, 603.76) (45765, 439.93) (99661, 344.19) (12129, 129.39)]\n",
      "(4,)\n"
     ]
    }
   ],
   "source": [
    "import numpy as np\n",
    "\n",
    "mytype = [('produktNr', np.int32), ('preise', np.float64)]\n",
    "\n",
    "produkte = np.array([(34765, 603.76), \n",
    "                     (45765, 439.93),\n",
    "                     (99661, 344.19),\n",
    "                     (12129, 129.39)], dtype=mytype)\n",
    "\n",
    "print(produkte[1])\n",
    "print(produkte[\"produktNr\"])\n",
    "print(produkte[2][\"preise\"])\n",
    "print(produkte)\n",
    "print(produkte.shape)"
   ]
  },
  {
   "cell_type": "markdown",
   "metadata": {},
   "source": [
    "2. Erzeuge ein Array mit der gleichen Länge, wie das eben erzeugte. \n",
    "Die Inhalte dieses Arrays sind Integers, die der Anzahl von verkauften Einheiten für die entsprechenden Produkt-IDs entsprechen. \n",
    "Berechnen Sie die Verkaufserlöse pro Item und die Gesamtsumme."
   ]
  },
  {
   "cell_type": "code",
   "execution_count": 12,
   "metadata": {
    "scrolled": true
   },
   "outputs": [
    {
     "name": "stdout",
     "output_type": "stream",
     "text": [
      "Erlöse pro Item:  [1811.28 2199.65  688.38  129.39]\n",
      "Gesamterlös:  4828.700000000001\n"
     ]
    }
   ],
   "source": [
    "verkaufszahlen = np.array([3, 5, 2, 1])\n",
    "\n",
    "erlöse = produkte[\"preise\"] * verkaufszahlen\n",
    "\n",
    "print(\"Erlöse pro Item: \", erlöse)\n",
    "print(\"Gesamterlös: \", erlöse.sum())"
   ]
  },
  {
   "cell_type": "markdown",
   "metadata": {},
   "source": [
    "3. Definiere ein strukturiertes Array für Zeiteinträge mit Stunden, Minuten und Sekunden. Die Indizes sollen \"h\", \"min\" und \"sec\" lauten."
   ]
  },
  {
   "cell_type": "code",
   "execution_count": 13,
   "metadata": {},
   "outputs": [
    {
     "name": "stdout",
     "output_type": "stream",
     "text": [
      "[(11, 38, 5) (14, 56, 0) ( 3,  9, 1)]\n",
      "[11 14  3]\n",
      "[38 56  9]\n",
      "[5 0 1]\n"
     ]
    }
   ],
   "source": [
    "time_type = np.dtype( [('h', int), \n",
    "                       ('min', int), \n",
    "                       ('sec', int)])\n",
    "\n",
    "times = np.array([(11, 38, 5), \n",
    "                  (14, 56, 0),\n",
    "                  ( 3,  9, 1)], dtype=time_type)\n",
    "print(times)\n",
    "print(times['h'])\n",
    "print(times['min'])\n",
    "print(times['sec'])"
   ]
  },
  {
   "cell_type": "markdown",
   "metadata": {},
   "source": [
    "Aus der obigen dtype-Struktur können wir auch ein zweidimensionales Array erzeugen, in dem die Spalten den Stunden, Minuten und Sekunden entsprechen:"
   ]
  },
  {
   "cell_type": "code",
   "execution_count": 14,
   "metadata": {},
   "outputs": [
    {
     "data": {
      "text/plain": [
       "array([[11, 38,  5],\n",
       "       [14, 56,  0],\n",
       "       [ 3,  9,  1]])"
      ]
     },
     "execution_count": 14,
     "metadata": {},
     "output_type": "execute_result"
    }
   ],
   "source": [
    "np.column_stack((times['h'], \n",
    "                 times['min'], \n",
    "                 times['sec']))"
   ]
  },
  {
   "cell_type": "markdown",
   "metadata": {},
   "source": [
    "4. Füge zu den Zeiteinträgen aus der vorigen Aufgabe noch jeweils einen Temperaturwert hinzu."
   ]
  },
  {
   "cell_type": "code",
   "execution_count": 17,
   "metadata": {},
   "outputs": [
    {
     "name": "stdout",
     "output_type": "stream",
     "text": [
      "[((11, 42, 17), 20.8) ((13, 19,  3), 23.2) ((14, 50, 29), 24.6)]\n",
      "[(11, 42, 17) (13, 19,  3) (14, 50, 29)]\n",
      "[11 13 14]\n",
      "[20.8 23.2 24.6]\n"
     ]
    }
   ],
   "source": [
    "time_temp_type = np.dtype( np.dtype([('time', [('h', int), ('min', int), ('sec', int)]),\n",
    "                                ('temperature', float)] ))\n",
    "\n",
    "time_temp = np.array( [((11, 42, 17), 20.8), \n",
    "                       ((13, 19,  3), 23.2),\n",
    "                       ((14, 50, 29), 24.6)], dtype=time_temp_type)\n",
    "print(time_temp)\n",
    "print(time_temp['time'])\n",
    "print(time_temp['time']['h'])\n",
    "print(time_temp['temperature'])"
   ]
  },
  {
   "cell_type": "markdown",
   "metadata": {},
   "source": [
    "5. Erzeugen eine csv-Datei, in der eine Zeile jeweils eine Zeit und einen Temperaturwert enthält,  \n",
    "   z.B. \n",
    "       14:56:19 23.8 \n",
    "       16.08:04 32.8"
   ]
  },
  {
   "cell_type": "code",
   "execution_count": 16,
   "metadata": {
    "scrolled": true
   },
   "outputs": [
    {
     "name": "stdout",
     "output_type": "stream",
     "text": [
      "11:42:17 20.8\r\n",
      "13:19:03 23.2\r\n",
      "14:50:29 24.6\r\n"
     ]
    }
   ],
   "source": [
    "with open(\"time_temp.csv\", \"w\") as fh:\n",
    "    for row in time_temp:\n",
    "        zeit = [f\"{el:02d}\" for el in row[0]]\n",
    "        zeit = \":\".join(zeit)\n",
    "        fh.write(zeit + \" \" + str(row[1]) + \"\\n\")\n",
    "        \n",
    "!cat time_temp.csv"
   ]
  }
 ],
 "metadata": {
  "anaconda-cloud": {},
  "kernelspec": {
   "display_name": "Python 3",
   "language": "python",
   "name": "python3"
  },
  "language_info": {
   "codemirror_mode": {
    "name": "ipython",
    "version": 3
   },
   "file_extension": ".py",
   "mimetype": "text/x-python",
   "name": "python",
   "nbconvert_exporter": "python",
   "pygments_lexer": "ipython3",
   "version": "3.6.5"
  },
  "toc": {
   "base_numbering": 1,
   "nav_menu": {},
   "number_sections": true,
   "sideBar": true,
   "skip_h1_title": false,
   "title_cell": "Table of Contents",
   "title_sidebar": "Contents",
   "toc_cell": false,
   "toc_position": {},
   "toc_section_display": true,
   "toc_window_display": false
  }
 },
 "nbformat": 4,
 "nbformat_minor": 2
}
