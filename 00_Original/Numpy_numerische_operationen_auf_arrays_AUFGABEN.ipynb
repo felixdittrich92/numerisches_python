{
 "cells": [
  {
   "cell_type": "code",
   "execution_count": 4,
   "metadata": {},
   "outputs": [],
   "source": [
    "# invisible\n",
    "#from IPython.display import HTML, display\n",
    "\n",
    "import numpy as np\n",
    "np.core.arrayprint._line_width = 65"
   ]
  },
  {
   "cell_type": "markdown",
   "metadata": {},
   "source": [
    "## Aufgaben zum Kapitel \"Numerische Operationen auf NumPy-Arrays\""
   ]
  },
  {
   "cell_type": "markdown",
   "metadata": {},
   "source": [
    "### Aufgaben:\n",
    "\n",
    "1. Aufgabe:\n",
    "\n",
    "Gegeben sei ein Array ```B = np.array([1, 2, 3])```.\n",
    "\n",
    "Erzeugen Sie aus diesem Array automatisch ein Array der Form:\n",
    "```\n",
    "[[[1 1 1]]\n",
    " [[2 2 2]]\n",
    " [[3 3 3]]]\n",
    "```\n",
    "Dieses Array hat die Shape  ```(3, 1, 3)```."
   ]
  },
  {
   "cell_type": "code",
   "execution_count": 5,
   "metadata": {
    "scrolled": true
   },
   "outputs": [
    {
     "name": "stdout",
     "output_type": "stream",
     "text": [
      "(3,)\n",
      "(1, 3)\n",
      "(3, 3)\n",
      "(3, 1, 3)\n",
      "[[[1 1 1]]\n",
      "\n",
      " [[2 2 2]]\n",
      "\n",
      " [[3 3 3]]]\n"
     ]
    }
   ],
   "source": [
    "B = np.array([1, 2, 3])\n",
    "print(B.shape)\n",
    "B = B[np.newaxis, :]\n",
    "print(B.shape)\n",
    "B = np.concatenate((B, B, B)).transpose()\n",
    "print(B.shape)\n",
    "B = B[:, np.newaxis]\n",
    "print(B.shape)\n",
    "print(B)"
   ]
  },
  {
   "cell_type": "markdown",
   "metadata": {},
   "source": [
    "2. Aufgabe:\n",
    "\n",
    "Erzeugen Sie ein Integer-Array A mit Shape (3, 4). Erzeugen Sie ein eindimensionales Array Z mit den jewiligen Zeilenminima und ein eindimensionales Array S mit den Spaltenminima. Wie lautet das absolute Minimum des Arrays?"
   ]
  },
  {
   "cell_type": "code",
   "execution_count": 6,
   "metadata": {},
   "outputs": [
    {
     "name": "stdout",
     "output_type": "stream",
     "text": [
      "[[-10   5   1   1]\n",
      " [  6 -10   1  -6]\n",
      " [  9   7   1  -7]]\n",
      "Zeilenminima: \n",
      "[-10 -10  -7]\n",
      "Spaltenminima: \n",
      "[-10 -10   1  -7]\n",
      "Absolutes Minimum: \n",
      "-10\n"
     ]
    }
   ],
   "source": [
    "A = np.random.randint(-10, 10, (3, 4))\n",
    "print(A)\n",
    "\n",
    "print(\"Zeilenminima: \")\n",
    "print(np.min(A, axis=1))\n",
    "\n",
    "print(\"Spaltenminima: \")\n",
    "print(np.min(A, axis=0))\n",
    "\n",
    "print(\"Absolutes Minimum: \")\n",
    "print(np.min(A))"
   ]
  }
 ],
 "metadata": {
  "anaconda-cloud": {},
  "kernelspec": {
   "display_name": "Python 3",
   "language": "python",
   "name": "python3"
  },
  "language_info": {
   "codemirror_mode": {
    "name": "ipython",
    "version": 3
   },
   "file_extension": ".py",
   "mimetype": "text/x-python",
   "name": "python",
   "nbconvert_exporter": "python",
   "pygments_lexer": "ipython3",
   "version": "3.7.1"
  },
  "toc": {
   "base_numbering": 1,
   "nav_menu": {},
   "number_sections": true,
   "sideBar": true,
   "skip_h1_title": false,
   "title_cell": "Table of Contents",
   "title_sidebar": "Contents",
   "toc_cell": false,
   "toc_position": {
    "height": "579px",
    "left": "76px",
    "top": "111.133px",
    "width": "198px"
   },
   "toc_section_display": true,
   "toc_window_display": true
  }
 },
 "nbformat": 4,
 "nbformat_minor": 2
}
