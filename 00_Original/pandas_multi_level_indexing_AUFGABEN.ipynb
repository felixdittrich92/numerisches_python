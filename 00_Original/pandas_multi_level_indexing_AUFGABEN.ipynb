{
 "cells": [
  {
   "cell_type": "code",
   "execution_count": 1,
   "metadata": {},
   "outputs": [],
   "source": [
    "# invisible\n",
    "import pandas as pd\n",
    "\n",
    "pd.set_option('display.max_colwidth', 65)\n",
    "pd.set_option('display.max_columns', 65)\n",
    "import numpy as np\n",
    "np.core.arrayprint._line_width = 65"
   ]
  },
  {
   "cell_type": "markdown",
   "metadata": {},
   "source": [
    "## Aufgaben zum Kapitel \"Mehrstufige Indizierung\""
   ]
  },
  {
   "cell_type": "markdown",
   "metadata": {},
   "source": [
    "### Aufgaben:\n",
    "\n",
    "1. Aufgabe:\n",
    "Wandeln Sie das folgende Dictionary in eine Series mit zweistufigem Index, wobei die Ländernamen den primären und die Jahreszahlen den sekundären Index bilden:\n",
    "\n",
    "```\n",
    "growth_rates = {(\"Afghanistan\", 2015): 1.31, \n",
    "                (\"Afghanistan\", 2016): 2.37,\n",
    "                (\"Afghanistan\", 2017): 2.60, \n",
    "                (\"Ägypten\", 2015): 4.37,\n",
    "                (\"Ägypten\", 2016): 4.35,\n",
    "                (\"Ägypten\", 2017): 4.18,\n",
    "                (\"Albanien\", 2015): 2.22,\n",
    "                (\"Albanien\", 2016): 3.35,\n",
    "                (\"Albanien\", 2017): 3.84}\n",
    "```\n",
    "\n"
   ]
  },
  {
   "cell_type": "code",
   "execution_count": 2,
   "metadata": {},
   "outputs": [
    {
     "data": {
      "text/plain": [
       "Afghanistan  2015    1.31\n",
       "             2016    2.37\n",
       "             2017    2.60\n",
       "Ägypten      2015    4.37\n",
       "             2016    4.35\n",
       "             2017    4.18\n",
       "Albanien     2015    2.22\n",
       "             2016    3.35\n",
       "             2017    3.84\n",
       "dtype: float64"
      ]
     },
     "execution_count": 2,
     "metadata": {},
     "output_type": "execute_result"
    }
   ],
   "source": [
    "# prog4book\n",
    "growth_rates = {(\"Afghanistan\", 2015): 1.31, \n",
    "                (\"Afghanistan\", 2016): 2.37,\n",
    "                (\"Afghanistan\", 2017): 2.60, \n",
    "                (\"Ägypten\", 2015): 4.37,\n",
    "                (\"Ägypten\", 2016): 4.35,\n",
    "                (\"Ägypten\", 2017): 4.18,\n",
    "                (\"Albanien\", 2015): 2.22,\n",
    "                (\"Albanien\", 2016): 3.35,\n",
    "                (\"Albanien\", 2017): 3.84}\n",
    "\n",
    "growth_rates_series = pd.Series(growth_rates)\n",
    "\n",
    "growth_rates_series"
   ]
  },
  {
   "cell_type": "markdown",
   "metadata": {},
   "source": [
    "2. Aufgabe:\n",
    "\n",
    "Vertauschen Sie den mehrstufigen Index der in der vorigen Aufgabe erzeugten Series, d.h. dass die Jahreszahlen den primären und die Länder den sekundären bilden."
   ]
  },
  {
   "cell_type": "code",
   "execution_count": 3,
   "metadata": {},
   "outputs": [
    {
     "data": {
      "text/plain": [
       "2015  Afghanistan    1.31\n",
       "      Albanien       2.22\n",
       "      Ägypten        4.37\n",
       "2016  Afghanistan    2.37\n",
       "      Albanien       3.35\n",
       "      Ägypten        4.35\n",
       "2017  Afghanistan    2.60\n",
       "      Albanien       3.84\n",
       "      Ägypten        4.18\n",
       "dtype: float64"
      ]
     },
     "execution_count": 3,
     "metadata": {},
     "output_type": "execute_result"
    }
   ],
   "source": [
    "# prog4book\n",
    "growth_rates_series = growth_rates_series.swaplevel()\n",
    "growth_rates_series.sort_index(inplace=True)\n",
    "growth_rates_series"
   ]
  }
 ],
 "metadata": {
  "anaconda-cloud": {},
  "kernelspec": {
   "display_name": "Python 3",
   "language": "python",
   "name": "python3"
  },
  "language_info": {
   "codemirror_mode": {
    "name": "ipython",
    "version": 3
   },
   "file_extension": ".py",
   "mimetype": "text/x-python",
   "name": "python",
   "nbconvert_exporter": "python",
   "pygments_lexer": "ipython3",
   "version": "3.6.5"
  },
  "toc": {
   "base_numbering": 1,
   "nav_menu": {},
   "number_sections": true,
   "sideBar": true,
   "skip_h1_title": false,
   "title_cell": "Table of Contents",
   "title_sidebar": "Contents",
   "toc_cell": false,
   "toc_position": {},
   "toc_section_display": true,
   "toc_window_display": false
  }
 },
 "nbformat": 4,
 "nbformat_minor": 2
}
