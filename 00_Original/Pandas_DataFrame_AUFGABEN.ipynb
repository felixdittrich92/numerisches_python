{
 "cells": [
  {
   "cell_type": "code",
   "execution_count": 1,
   "metadata": {},
   "outputs": [],
   "source": [
    "# invisible\n",
    "import numpy as np\n",
    "import pandas as pd\n",
    "np.core.arrayprint._line_width = 60\n",
    "\n",
    "pd.set_option('display.max_colwidth', 65)\n",
    "pd.set_option('display.max_columns', 5)"
   ]
  },
  {
   "cell_type": "markdown",
   "metadata": {},
   "source": [
    "## Aufgaben zum Kapitel \"DataFrame\""
   ]
  },
  {
   "cell_type": "markdown",
   "metadata": {},
   "source": [
    "### Aufgaben:\n",
    "\n",
    "1. Aufgabe: Erzeugen Sie ein DataFrame, das wie folgt aussieht:\n",
    "\n",
    "```\n",
    "Vienna   country           Austria\n",
    "         area                414.6\n",
    "         population        1805681\n",
    "Hamburg  country           Germany\n",
    "         area                  755\n",
    "         population        1760433\n",
    "Berlin   country           Germany\n",
    "         area               891.85\n",
    "         population        3562166\n",
    "Zürich   country       Switzerland\n",
    "         area                87.88\n",
    "         population         378884\n",
    "dtype: object\n",
    "```"
   ]
  },
  {
   "cell_type": "code",
   "execution_count": 2,
   "metadata": {},
   "outputs": [
    {
     "name": "stdout",
     "output_type": "stream",
     "text": [
      "Vienna   country           Austria\n",
      "         area                414.6\n",
      "         population        1805681\n",
      "Hamburg  country           Germany\n",
      "         area                  755\n",
      "         population        1760433\n",
      "Berlin   country           Germany\n",
      "         area               891.85\n",
      "         population        3562166\n",
      "Zürich   country       Switzerland\n",
      "         area                87.88\n",
      "         population         378884\n",
      "dtype: object\n"
     ]
    }
   ],
   "source": [
    "# prog4book\n",
    "import pandas as pd\n",
    "\n",
    "cities = [\"Vienna\", \"Vienna\", \"Vienna\",\n",
    "          \"Hamburg\", \"Hamburg\", \"Hamburg\",\n",
    "          \"Berlin\", \"Berlin\", \"Berlin\",\n",
    "          \"Zürich\", \"Zürich\", \"Zürich\"]\n",
    "\n",
    "data = [\"Austria\", 414.60,    1805681,\n",
    "        \"Germany\", 755.00,    1760433,\n",
    "        \"Germany\", 891.85,    3562166,\n",
    "        \"Switzerland\", 87.88, 378884]\n",
    "\n",
    "index = [cities, [\"country\", \"area\", \"population\",\n",
    "                  \"country\", \"area\", \"population\",\n",
    "                  \"country\", \"area\", \"population\",\n",
    "                  \"country\", \"area\", \"population\"]]\n",
    "\n",
    "city_series = pd.Series(data, index=index)\n",
    "print(city_series)"
   ]
  },
  {
   "cell_type": "markdown",
   "metadata": {},
   "source": [
    "2. Aufgabe: Vertauschen Sie die Indices der vorigen Series."
   ]
  },
  {
   "cell_type": "code",
   "execution_count": 3,
   "metadata": {},
   "outputs": [
    {
     "name": "stdout",
     "output_type": "stream",
     "text": [
      "area        Berlin          891.85\n",
      "            Hamburg            755\n",
      "            Vienna           414.6\n",
      "            Zürich           87.88\n",
      "country     Berlin         Germany\n",
      "            Hamburg        Germany\n",
      "            Vienna         Austria\n",
      "            Zürich     Switzerland\n",
      "population  Berlin         3562166\n",
      "            Hamburg        1760433\n",
      "            Vienna         1805681\n",
      "            Zürich          378884\n",
      "dtype: object\n"
     ]
    }
   ],
   "source": [
    "# prog4book\n",
    "city_series = city_series.sort_index()\n",
    "\n",
    "city_series = city_series.swaplevel()\n",
    "city_series.sort_index(inplace=True)\n",
    "print(city_series)"
   ]
  },
  {
   "cell_type": "markdown",
   "metadata": {},
   "source": [
    "3. Aufgabe: \n",
    "\n",
    "Erzeugen Sie ein beliebiges DataFrame mit einem Index, der aus Vornamen besteht, sowie und einer Spalte für das Gewicht und einer Spalte für die Körpergröße. \n",
    "\n",
    "Extrahieren Sie dann alle Zeilen, deren BMI\\footnote{BMI} im normalen Bereich liegt, d.h. zwischen 18.5 und 25.\n",
    "\n",
    "Es gilt:\n",
    "\n",
    "$$BMI = \\frac {g}{h**2} $$"
   ]
  },
  {
   "cell_type": "code",
   "execution_count": 4,
   "metadata": {},
   "outputs": [
    {
     "name": "stdout",
     "output_type": "stream",
     "text": [
      "       Gewicht  Größe\n",
      "Henry       65    179\n",
      "Sarah       58    165\n",
      "Maria       68    176\n"
     ]
    }
   ],
   "source": [
    "# prog4book\n",
    "import pandas as pd\n",
    "persons = { \"Name\" : [\"Henry\", \"Sarah\", \"Elke\", \n",
    "                      \"Lulu\", \"Vera\", \"Toni\", \n",
    "                      \"Maria\", \"Chris\"],\n",
    "            \"Größe\" : [179, 165, 172, 154, 150, \n",
    "                       189, 176, 175],\n",
    "            \"Gewicht\" : [65, 58, 58, 45, 43, 99, 68, 60]\n",
    "          }\n",
    "\n",
    "pdf = pd.DataFrame(persons, \n",
    "                   columns = [\"Gewicht\", \"Größe\"],\n",
    "                   index=persons[\"Name\"])\n",
    "\n",
    "bmi = (pdf.Gewicht / ((pdf.Größe/100) ** 2))\n",
    "bmi_okay = pdf.loc[(20 < bmi) & (bmi < 25)]\n",
    "print(bmi_okay)"
   ]
  },
  {
   "cell_type": "markdown",
   "metadata": {},
   "source": [
    "4. Aufgabe: \n",
    "\n",
    "Geben Sie die Zeilen aus, in deren Namen ein kleines \"i\" vorkommt."
   ]
  },
  {
   "cell_type": "code",
   "execution_count": 5,
   "metadata": {},
   "outputs": [
    {
     "data": {
      "text/html": [
       "<div>\n",
       "<style scoped>\n",
       "    .dataframe tbody tr th:only-of-type {\n",
       "        vertical-align: middle;\n",
       "    }\n",
       "\n",
       "    .dataframe tbody tr th {\n",
       "        vertical-align: top;\n",
       "    }\n",
       "\n",
       "    .dataframe thead th {\n",
       "        text-align: right;\n",
       "    }\n",
       "</style>\n",
       "<table border=\"1\" class=\"dataframe\">\n",
       "  <thead>\n",
       "    <tr style=\"text-align: right;\">\n",
       "      <th></th>\n",
       "      <th>Gewicht</th>\n",
       "      <th>Größe</th>\n",
       "    </tr>\n",
       "  </thead>\n",
       "  <tbody>\n",
       "    <tr>\n",
       "      <th>Toni</th>\n",
       "      <td>99</td>\n",
       "      <td>189</td>\n",
       "    </tr>\n",
       "    <tr>\n",
       "      <th>Maria</th>\n",
       "      <td>68</td>\n",
       "      <td>176</td>\n",
       "    </tr>\n",
       "    <tr>\n",
       "      <th>Chris</th>\n",
       "      <td>60</td>\n",
       "      <td>175</td>\n",
       "    </tr>\n",
       "  </tbody>\n",
       "</table>\n",
       "</div>"
      ],
      "text/plain": [
       "       Gewicht  Größe\n",
       "Toni        99    189\n",
       "Maria       68    176\n",
       "Chris       60    175"
      ]
     },
     "execution_count": 5,
     "metadata": {},
     "output_type": "execute_result"
    }
   ],
   "source": [
    "# prog4book\n",
    "pdf.loc[pdf.index.str.contains(\"i\")]"
   ]
  },
  {
   "cell_type": "markdown",
   "metadata": {},
   "source": [
    "5. Aufgabe: \n",
    "\n",
    "Fügen Sie an den in Aufgabe 3 erzeugten DataFrame eine Zeile mit dem BMI an."
   ]
  },
  {
   "cell_type": "code",
   "execution_count": 6,
   "metadata": {},
   "outputs": [
    {
     "data": {
      "text/html": [
       "<div>\n",
       "<style scoped>\n",
       "    .dataframe tbody tr th:only-of-type {\n",
       "        vertical-align: middle;\n",
       "    }\n",
       "\n",
       "    .dataframe tbody tr th {\n",
       "        vertical-align: top;\n",
       "    }\n",
       "\n",
       "    .dataframe thead th {\n",
       "        text-align: right;\n",
       "    }\n",
       "</style>\n",
       "<table border=\"1\" class=\"dataframe\">\n",
       "  <thead>\n",
       "    <tr style=\"text-align: right;\">\n",
       "      <th></th>\n",
       "      <th>Gewicht</th>\n",
       "      <th>Größe</th>\n",
       "      <th>BMI</th>\n",
       "    </tr>\n",
       "  </thead>\n",
       "  <tbody>\n",
       "    <tr>\n",
       "      <th>Henry</th>\n",
       "      <td>65</td>\n",
       "      <td>179</td>\n",
       "      <td>20.286508</td>\n",
       "    </tr>\n",
       "    <tr>\n",
       "      <th>Sarah</th>\n",
       "      <td>58</td>\n",
       "      <td>165</td>\n",
       "      <td>21.303949</td>\n",
       "    </tr>\n",
       "    <tr>\n",
       "      <th>Elke</th>\n",
       "      <td>58</td>\n",
       "      <td>172</td>\n",
       "      <td>19.605192</td>\n",
       "    </tr>\n",
       "    <tr>\n",
       "      <th>Lulu</th>\n",
       "      <td>45</td>\n",
       "      <td>154</td>\n",
       "      <td>18.974532</td>\n",
       "    </tr>\n",
       "    <tr>\n",
       "      <th>Vera</th>\n",
       "      <td>43</td>\n",
       "      <td>150</td>\n",
       "      <td>19.111111</td>\n",
       "    </tr>\n",
       "    <tr>\n",
       "      <th>Toni</th>\n",
       "      <td>99</td>\n",
       "      <td>189</td>\n",
       "      <td>27.714790</td>\n",
       "    </tr>\n",
       "    <tr>\n",
       "      <th>Maria</th>\n",
       "      <td>68</td>\n",
       "      <td>176</td>\n",
       "      <td>21.952479</td>\n",
       "    </tr>\n",
       "    <tr>\n",
       "      <th>Chris</th>\n",
       "      <td>60</td>\n",
       "      <td>175</td>\n",
       "      <td>19.591837</td>\n",
       "    </tr>\n",
       "  </tbody>\n",
       "</table>\n",
       "</div>"
      ],
      "text/plain": [
       "       Gewicht  Größe        BMI\n",
       "Henry       65    179  20.286508\n",
       "Sarah       58    165  21.303949\n",
       "Elke        58    172  19.605192\n",
       "Lulu        45    154  18.974532\n",
       "Vera        43    150  19.111111\n",
       "Toni        99    189  27.714790\n",
       "Maria       68    176  21.952479\n",
       "Chris       60    175  19.591837"
      ]
     },
     "execution_count": 6,
     "metadata": {},
     "output_type": "execute_result"
    }
   ],
   "source": [
    "# prog4book\n",
    "pdf.insert(loc=len(pdf.columns),\n",
    "           column=\"BMI\",\n",
    "           value=(pdf.Gewicht / ((pdf.Größe/100) ** 2)))\n",
    "pdf"
   ]
  },
  {
   "cell_type": "markdown",
   "metadata": {},
   "source": [
    "6. Aufgabe: \n",
    "\n",
    "Geben Sie das in der letzten Aufgabe erzeugte DataFrame absteigend sortiert nach dem BMI aus."
   ]
  },
  {
   "cell_type": "code",
   "execution_count": 7,
   "metadata": {},
   "outputs": [
    {
     "data": {
      "text/html": [
       "<div>\n",
       "<style scoped>\n",
       "    .dataframe tbody tr th:only-of-type {\n",
       "        vertical-align: middle;\n",
       "    }\n",
       "\n",
       "    .dataframe tbody tr th {\n",
       "        vertical-align: top;\n",
       "    }\n",
       "\n",
       "    .dataframe thead th {\n",
       "        text-align: right;\n",
       "    }\n",
       "</style>\n",
       "<table border=\"1\" class=\"dataframe\">\n",
       "  <thead>\n",
       "    <tr style=\"text-align: right;\">\n",
       "      <th></th>\n",
       "      <th>Gewicht</th>\n",
       "      <th>Größe</th>\n",
       "      <th>BMI</th>\n",
       "    </tr>\n",
       "  </thead>\n",
       "  <tbody>\n",
       "    <tr>\n",
       "      <th>Toni</th>\n",
       "      <td>99</td>\n",
       "      <td>189</td>\n",
       "      <td>27.714790</td>\n",
       "    </tr>\n",
       "    <tr>\n",
       "      <th>Maria</th>\n",
       "      <td>68</td>\n",
       "      <td>176</td>\n",
       "      <td>21.952479</td>\n",
       "    </tr>\n",
       "    <tr>\n",
       "      <th>Sarah</th>\n",
       "      <td>58</td>\n",
       "      <td>165</td>\n",
       "      <td>21.303949</td>\n",
       "    </tr>\n",
       "    <tr>\n",
       "      <th>Henry</th>\n",
       "      <td>65</td>\n",
       "      <td>179</td>\n",
       "      <td>20.286508</td>\n",
       "    </tr>\n",
       "    <tr>\n",
       "      <th>Elke</th>\n",
       "      <td>58</td>\n",
       "      <td>172</td>\n",
       "      <td>19.605192</td>\n",
       "    </tr>\n",
       "    <tr>\n",
       "      <th>Chris</th>\n",
       "      <td>60</td>\n",
       "      <td>175</td>\n",
       "      <td>19.591837</td>\n",
       "    </tr>\n",
       "    <tr>\n",
       "      <th>Vera</th>\n",
       "      <td>43</td>\n",
       "      <td>150</td>\n",
       "      <td>19.111111</td>\n",
       "    </tr>\n",
       "    <tr>\n",
       "      <th>Lulu</th>\n",
       "      <td>45</td>\n",
       "      <td>154</td>\n",
       "      <td>18.974532</td>\n",
       "    </tr>\n",
       "  </tbody>\n",
       "</table>\n",
       "</div>"
      ],
      "text/plain": [
       "       Gewicht  Größe        BMI\n",
       "Toni        99    189  27.714790\n",
       "Maria       68    176  21.952479\n",
       "Sarah       58    165  21.303949\n",
       "Henry       65    179  20.286508\n",
       "Elke        58    172  19.605192\n",
       "Chris       60    175  19.591837\n",
       "Vera        43    150  19.111111\n",
       "Lulu        45    154  18.974532"
      ]
     },
     "execution_count": 7,
     "metadata": {},
     "output_type": "execute_result"
    }
   ],
   "source": [
    "# prog4book\n",
    "pdf.sort_values(by=\"BMI\", ascending=False)"
   ]
  },
  {
   "cell_type": "markdown",
   "metadata": {},
   "source": [
    "7. Aufgabe: \n",
    "\n",
    "Geben Sie nun alle Zeilen aus, deren BMI-Werte innerhalb von 18.5 und 23 liegen und deren Vornamen ein \"a\" enthalten."
   ]
  },
  {
   "cell_type": "code",
   "execution_count": 8,
   "metadata": {},
   "outputs": [
    {
     "name": "stdout",
     "output_type": "stream",
     "text": [
      "       Gewicht  Größe        BMI\n",
      "Sarah       58    165  21.303949\n",
      "Vera        43    150  19.111111\n",
      "Maria       68    176  21.952479\n"
     ]
    }
   ],
   "source": [
    "# prog4book\n",
    "bmi_okay = (18.5 < pdf['BMI']) & (pdf['BMI'] < 23.5)\n",
    "name_contains_a = pdf.index.str.contains('a')\n",
    "print(pdf.loc[bmi_okay & name_contains_a])"
   ]
  },
  {
   "cell_type": "markdown",
   "metadata": {},
   "source": [
    "8. Aufgabe: \n",
    "\n",
    "Erzeugen Sie ein DataFrame mit einem Index, der aus den Monatsnamen besteht, und die Spaltennamen Vornamen entsprechen. Füllen Sie nun die Spalten mit zufälligen ganzen Zahlen zwischen 120 und 200."
   ]
  },
  {
   "cell_type": "code",
   "execution_count": 9,
   "metadata": {},
   "outputs": [
    {
     "name": "stdout",
     "output_type": "stream",
     "text": [
      "           Jonas  Leon  ...   Mila  Lina\n",
      "Januar       146   160  ...    160   169\n",
      "Februar      177   136  ...    132   173\n",
      "März         158   198  ...    180   154\n",
      "April        149   168  ...    124   163\n",
      "Mai          174   156  ...    165   121\n",
      "Juni         139   145  ...    142   166\n",
      "Juli         143   160  ...    146   188\n",
      "August       131   168  ...    187   162\n",
      "September    155   127  ...    179   148\n",
      "Oktober      154   167  ...    195   169\n",
      "November     166   145  ...    152   163\n",
      "Dezember     180   122  ...    126   160\n",
      "\n",
      "[12 rows x 8 columns]\n"
     ]
    }
   ],
   "source": [
    "# prog4book\n",
    "\n",
    "import numpy as np\n",
    "import pandas as pd\n",
    "\n",
    "names = ['Jonas', 'Leon', 'Finn', 'Guido', \n",
    "         'Lara', \"Hannah\", \"Mila\", \"Lina\"]\n",
    "index = [\"Januar\", \"Februar\", \"März\",\n",
    "         \"April\", \"Mai\", \"Juni\",\n",
    "         \"Juli\", \"August\", \"September\",\n",
    "         \"Oktober\", \"November\", \"Dezember\"]\n",
    "df = pd.DataFrame(np.random.randint(120, \n",
    "                                    200, \n",
    "                                    size=(len(index), \n",
    "                                          len(names))),\n",
    "                  columns = names,\n",
    "                  index = index)\n",
    "print(df)"
   ]
  },
  {
   "cell_type": "markdown",
   "metadata": {},
   "source": [
    "9. Aufgabe: \n",
    "\n",
    "Kehren Sie das eben erzeugte DataFrame um, sodass der Index den Vornamen und die Spaltennamen den Monatsnamen entsprechen."
   ]
  },
  {
   "cell_type": "code",
   "execution_count": 10,
   "metadata": {},
   "outputs": [
    {
     "name": "stdout",
     "output_type": "stream",
     "text": [
      "        Januar  Februar    ...     November  Dezember\n",
      "Jonas      146      177    ...          166       180\n",
      "Leon       160      136    ...          145       122\n",
      "Finn       140      121    ...          189       120\n",
      "Guido      199      126    ...          120       175\n",
      "Lara       172      199    ...          138       174\n",
      "Hannah     156      178    ...          182       156\n",
      "Mila       160      132    ...          152       126\n",
      "Lina       169      173    ...          163       160\n",
      "\n",
      "[8 rows x 12 columns]\n"
     ]
    }
   ],
   "source": [
    "# prog4book\n",
    "\n",
    "new_df = df.transpose()\n",
    "print(new_df)"
   ]
  }
 ],
 "metadata": {
  "anaconda-cloud": {},
  "kernelspec": {
   "display_name": "Python 3",
   "language": "python",
   "name": "python3"
  },
  "language_info": {
   "codemirror_mode": {
    "name": "ipython",
    "version": 3
   },
   "file_extension": ".py",
   "mimetype": "text/x-python",
   "name": "python",
   "nbconvert_exporter": "python",
   "pygments_lexer": "ipython3",
   "version": "3.6.5"
  },
  "toc": {
   "base_numbering": 1,
   "nav_menu": {},
   "number_sections": true,
   "sideBar": true,
   "skip_h1_title": false,
   "title_cell": "Table of Contents",
   "title_sidebar": "Contents",
   "toc_cell": false,
   "toc_position": {},
   "toc_section_display": true,
   "toc_window_display": false
  }
 },
 "nbformat": 4,
 "nbformat_minor": 2
}
