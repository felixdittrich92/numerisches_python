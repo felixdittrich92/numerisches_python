{
 "cells": [
  {
   "cell_type": "code",
   "execution_count": 1,
   "metadata": {},
   "outputs": [],
   "source": [
    "# invisible\n",
    "import numpy as np\n",
    "import pandas as pd\n",
    "np.core.arrayprint._line_width = 60\n",
    "\n",
    "\n",
    "pd.set_option('display.max_colwidth', 65)\n",
    "pd.set_option('display.max_columns', 5)"
   ]
  },
  {
   "cell_type": "markdown",
   "metadata": {},
   "source": [
    "## Aufgaben zum Kapitel \"Dateien lesen und schreiben\""
   ]
  },
  {
   "cell_type": "markdown",
   "metadata": {},
   "source": [
    "### Aufgaben:\n",
    "\n",
    "1. Aufgabe:\n",
    "\n",
    "Die Datei \"countries_population.csv\" ist eine CSV-Datei, die die Bevölkerungszahlen von allen Ländern enthält (July 2014). Als Trennzeichen fungiert ein Leerzeichen, und Kommas trennen die Tausenderpositionen in Zahlen. Lesen Sie die Datei in einen DataFrame ein und geben Sie dann die ersten fünf Zeilen des DataFrame aus."
   ]
  },
  {
   "cell_type": "code",
   "execution_count": 2,
   "metadata": {},
   "outputs": [
    {
     "name": "stdout",
     "output_type": "stream",
     "text": [
      "                Population\n",
      "Country                   \n",
      "China           1355692576\n",
      "India           1236344631\n",
      "European Union   511434812\n",
      "United States    318892103\n",
      "Indonesia        253609643\n"
     ]
    }
   ],
   "source": [
    "#prog4book\n",
    "pop = pd.read_csv(\"data1/countries_population.csv\", \n",
    "                  header=None,\n",
    "                  names=[\"Country\", \"Population\"],\n",
    "                  index_col=0,\n",
    "                  quotechar=\"'\", \n",
    "                  sep=\" \", \n",
    "                  thousands=\",\")\n",
    "print(pop.head(5))  "
   ]
  },
  {
   "cell_type": "markdown",
   "metadata": {},
   "source": [
    "2. Aufgabe:"
   ]
  },
  {
   "cell_type": "markdown",
   "metadata": {},
   "source": [
    "- Lesen Sie die csv-Datei (csv) [bundeslaender.txt]('data1/bundeslaender.txt') ein. Erzeugen Sie eine neue Datei mit den Spaltennamen 'land', 'area', 'female', 'male', 'population' und 'density', also die Anzahl der Einwohner pro Quadradkilometer.\n",
    "- Geben Sie alle Zeilen aus mit einer Fläche größer als 30000 und deren Bevölkerung größer als 10000 ist.\n",
    "- Geben Sie alle Zeilen aus, deren Dichte größer als 30000 ist. "
   ]
  },
  {
   "cell_type": "code",
   "execution_count": 3,
   "metadata": {},
   "outputs": [
    {
     "name": "stdout",
     "output_type": "stream",
     "text": [
      "['land' 'area' 'male' 'female']\n"
     ]
    }
   ],
   "source": [
    "#prog4book\n",
    "lands = pd.read_csv('data1/bundeslaender.txt', sep=\" \")\n",
    "print(lands.columns.values)"
   ]
  },
  {
   "cell_type": "code",
   "execution_count": 4,
   "metadata": {},
   "outputs": [
    {
     "data": {
      "text/html": [
       "<div>\n",
       "<style scoped>\n",
       "    .dataframe tbody tr th:only-of-type {\n",
       "        vertical-align: middle;\n",
       "    }\n",
       "\n",
       "    .dataframe tbody tr th {\n",
       "        vertical-align: top;\n",
       "    }\n",
       "\n",
       "    .dataframe thead th {\n",
       "        text-align: right;\n",
       "    }\n",
       "</style>\n",
       "<table border=\"1\" class=\"dataframe\">\n",
       "  <thead>\n",
       "    <tr style=\"text-align: right;\">\n",
       "      <th></th>\n",
       "      <th>land</th>\n",
       "      <th>area</th>\n",
       "      <th>female</th>\n",
       "      <th>male</th>\n",
       "    </tr>\n",
       "  </thead>\n",
       "  <tbody>\n",
       "    <tr>\n",
       "      <th>0</th>\n",
       "      <td>Baden-Württemberg</td>\n",
       "      <td>35751.65</td>\n",
       "      <td>5465</td>\n",
       "      <td>5271</td>\n",
       "    </tr>\n",
       "    <tr>\n",
       "      <th>1</th>\n",
       "      <td>Bayern</td>\n",
       "      <td>70551.57</td>\n",
       "      <td>6366</td>\n",
       "      <td>6103</td>\n",
       "    </tr>\n",
       "  </tbody>\n",
       "</table>\n",
       "</div>"
      ],
      "text/plain": [
       "                land      area  female  male\n",
       "0  Baden-Württemberg  35751.65    5465  5271\n",
       "1             Bayern  70551.57    6366  6103"
      ]
     },
     "execution_count": 4,
     "metadata": {},
     "output_type": "execute_result"
    }
   ],
   "source": [
    "#prog4book\n",
    "# swap the columns of our DataFrame:\n",
    "lands = lands.reindex(columns=['land', 'area', 'female', 'male'])\n",
    "lands[:2]"
   ]
  },
  {
   "cell_type": "code",
   "execution_count": 5,
   "metadata": {},
   "outputs": [
    {
     "data": {
      "text/html": [
       "<div>\n",
       "<style scoped>\n",
       "    .dataframe tbody tr th:only-of-type {\n",
       "        vertical-align: middle;\n",
       "    }\n",
       "\n",
       "    .dataframe tbody tr th {\n",
       "        vertical-align: top;\n",
       "    }\n",
       "\n",
       "    .dataframe thead th {\n",
       "        text-align: right;\n",
       "    }\n",
       "</style>\n",
       "<table border=\"1\" class=\"dataframe\">\n",
       "  <thead>\n",
       "    <tr style=\"text-align: right;\">\n",
       "      <th></th>\n",
       "      <th>land</th>\n",
       "      <th>area</th>\n",
       "      <th>female</th>\n",
       "      <th>male</th>\n",
       "      <th>population</th>\n",
       "    </tr>\n",
       "  </thead>\n",
       "  <tbody>\n",
       "    <tr>\n",
       "      <th>0</th>\n",
       "      <td>Baden-Württemberg</td>\n",
       "      <td>35751.65</td>\n",
       "      <td>5465</td>\n",
       "      <td>5271</td>\n",
       "      <td>10736</td>\n",
       "    </tr>\n",
       "    <tr>\n",
       "      <th>1</th>\n",
       "      <td>Bayern</td>\n",
       "      <td>70551.57</td>\n",
       "      <td>6366</td>\n",
       "      <td>6103</td>\n",
       "      <td>12469</td>\n",
       "    </tr>\n",
       "    <tr>\n",
       "      <th>2</th>\n",
       "      <td>Berlin</td>\n",
       "      <td>891.85</td>\n",
       "      <td>1736</td>\n",
       "      <td>1660</td>\n",
       "      <td>3396</td>\n",
       "    </tr>\n",
       "  </tbody>\n",
       "</table>\n",
       "</div>"
      ],
      "text/plain": [
       "                land      area  female  male  population\n",
       "0  Baden-Württemberg  35751.65    5465  5271       10736\n",
       "1             Bayern  70551.57    6366  6103       12469\n",
       "2             Berlin    891.85    1736  1660        3396"
      ]
     },
     "execution_count": 5,
     "metadata": {},
     "output_type": "execute_result"
    }
   ],
   "source": [
    "#prog4book\n",
    "lands.insert(loc=len(lands.columns), \n",
    "             column='population', \n",
    "             value=lands['female'] + lands['male'])\n",
    "lands[:3]"
   ]
  },
  {
   "cell_type": "code",
   "execution_count": 6,
   "metadata": {},
   "outputs": [
    {
     "data": {
      "text/html": [
       "<div>\n",
       "<style scoped>\n",
       "    .dataframe tbody tr th:only-of-type {\n",
       "        vertical-align: middle;\n",
       "    }\n",
       "\n",
       "    .dataframe tbody tr th {\n",
       "        vertical-align: top;\n",
       "    }\n",
       "\n",
       "    .dataframe thead th {\n",
       "        text-align: right;\n",
       "    }\n",
       "</style>\n",
       "<table border=\"1\" class=\"dataframe\">\n",
       "  <thead>\n",
       "    <tr style=\"text-align: right;\">\n",
       "      <th></th>\n",
       "      <th>land</th>\n",
       "      <th>area</th>\n",
       "      <th>...</th>\n",
       "      <th>population</th>\n",
       "      <th>density</th>\n",
       "    </tr>\n",
       "  </thead>\n",
       "  <tbody>\n",
       "    <tr>\n",
       "      <th>0</th>\n",
       "      <td>Baden-Württemberg</td>\n",
       "      <td>35751.65</td>\n",
       "      <td>...</td>\n",
       "      <td>10736</td>\n",
       "      <td>300.0</td>\n",
       "    </tr>\n",
       "    <tr>\n",
       "      <th>1</th>\n",
       "      <td>Bayern</td>\n",
       "      <td>70551.57</td>\n",
       "      <td>...</td>\n",
       "      <td>12469</td>\n",
       "      <td>177.0</td>\n",
       "    </tr>\n",
       "    <tr>\n",
       "      <th>2</th>\n",
       "      <td>Berlin</td>\n",
       "      <td>891.85</td>\n",
       "      <td>...</td>\n",
       "      <td>3396</td>\n",
       "      <td>3808.0</td>\n",
       "    </tr>\n",
       "    <tr>\n",
       "      <th>3</th>\n",
       "      <td>Brandenburg</td>\n",
       "      <td>29478.61</td>\n",
       "      <td>...</td>\n",
       "      <td>2560</td>\n",
       "      <td>87.0</td>\n",
       "    </tr>\n",
       "  </tbody>\n",
       "</table>\n",
       "<p>4 rows × 6 columns</p>\n",
       "</div>"
      ],
      "text/plain": [
       "                land      area   ...     population  density\n",
       "0  Baden-Württemberg  35751.65   ...          10736    300.0\n",
       "1             Bayern  70551.57   ...          12469    177.0\n",
       "2             Berlin    891.85   ...           3396   3808.0\n",
       "3        Brandenburg  29478.61   ...           2560     87.0\n",
       "\n",
       "[4 rows x 6 columns]"
      ]
     },
     "execution_count": 6,
     "metadata": {},
     "output_type": "execute_result"
    }
   ],
   "source": [
    "#prog4book\n",
    "lands.insert(loc=len(lands.columns), \n",
    "             column='density', \n",
    "             value=(lands['population'] * 1000 / lands['area']).round(0))\n",
    "\n",
    "lands[:4]"
   ]
  },
  {
   "cell_type": "code",
   "execution_count": 7,
   "metadata": {},
   "outputs": [
    {
     "name": "stdout",
     "output_type": "stream",
     "text": [
      "                  land      area   ...     population  density\n",
      "0    Baden-Württemberg  35751.65   ...          10736    300.0\n",
      "1               Bayern  70551.57   ...          12469    177.0\n",
      "9  Nordrhein-Westfalen  34085.29   ...          18058    530.0\n",
      "\n",
      "[3 rows x 6 columns]\n"
     ]
    }
   ],
   "source": [
    "#prog4book\n",
    "print(lands.loc[(lands.area>30000) & (lands.population>10000)])"
   ]
  },
  {
   "cell_type": "markdown",
   "metadata": {},
   "source": [
    "3. Aufgabe: \n",
    "\n",
    "Im Verzeichnis ```data1``` befindet sich eine Datei ```person_data.txt``` mit Personendaten. Jede Zeile hat folgenden Aufbau:\n",
    "\n",
    "```Vorname Nachname Größe Gewicht Geschlecht```\n",
    "\n",
    "Lesen Sie die Datei in ein Datenframe ein. \n",
    "\n",
    "Erzeugen Sie dann eine Spalte mit dem BMI\\footnote{BMI}, die Sie als Letztes an das DataFrame anhängen.\n",
    "\n",
    "Es gilt:\n",
    "\n",
    "$$BMI = \\frac {g}{h**2} $$"
   ]
  },
  {
   "cell_type": "code",
   "execution_count": 8,
   "metadata": {},
   "outputs": [
    {
     "data": {
      "text/html": [
       "<div>\n",
       "<style scoped>\n",
       "    .dataframe tbody tr th:only-of-type {\n",
       "        vertical-align: middle;\n",
       "    }\n",
       "\n",
       "    .dataframe tbody tr th {\n",
       "        vertical-align: top;\n",
       "    }\n",
       "\n",
       "    .dataframe thead th {\n",
       "        text-align: right;\n",
       "    }\n",
       "</style>\n",
       "<table border=\"1\" class=\"dataframe\">\n",
       "  <thead>\n",
       "    <tr style=\"text-align: right;\">\n",
       "      <th></th>\n",
       "      <th>Nachname</th>\n",
       "      <th>Größe</th>\n",
       "      <th>Gewicht</th>\n",
       "      <th>Geschlecht</th>\n",
       "      <th>BMI</th>\n",
       "    </tr>\n",
       "    <tr>\n",
       "      <th>Vorname</th>\n",
       "      <th></th>\n",
       "      <th></th>\n",
       "      <th></th>\n",
       "      <th></th>\n",
       "      <th></th>\n",
       "    </tr>\n",
       "  </thead>\n",
       "  <tbody>\n",
       "    <tr>\n",
       "      <th>Randy</th>\n",
       "      <td>Carter</td>\n",
       "      <td>184</td>\n",
       "      <td>73.0</td>\n",
       "      <td>male</td>\n",
       "      <td>21.561909</td>\n",
       "    </tr>\n",
       "    <tr>\n",
       "      <th>Stephanie</th>\n",
       "      <td>Smith</td>\n",
       "      <td>149</td>\n",
       "      <td>52.0</td>\n",
       "      <td>female</td>\n",
       "      <td>23.422368</td>\n",
       "    </tr>\n",
       "    <tr>\n",
       "      <th>Cynthia</th>\n",
       "      <td>Watson</td>\n",
       "      <td>174</td>\n",
       "      <td>63.0</td>\n",
       "      <td>female</td>\n",
       "      <td>20.808561</td>\n",
       "    </tr>\n",
       "    <tr>\n",
       "      <th>Jessie</th>\n",
       "      <td>Morgan</td>\n",
       "      <td>175</td>\n",
       "      <td>67.0</td>\n",
       "      <td>male</td>\n",
       "      <td>21.877551</td>\n",
       "    </tr>\n",
       "    <tr>\n",
       "      <th>Katherine</th>\n",
       "      <td>Carter</td>\n",
       "      <td>183</td>\n",
       "      <td>81.0</td>\n",
       "      <td>female</td>\n",
       "      <td>24.187046</td>\n",
       "    </tr>\n",
       "    <tr>\n",
       "      <th>David</th>\n",
       "      <td>Reed</td>\n",
       "      <td>187</td>\n",
       "      <td>60.0</td>\n",
       "      <td>male</td>\n",
       "      <td>17.158054</td>\n",
       "    </tr>\n",
       "    <tr>\n",
       "      <th>Stephen</th>\n",
       "      <td>Jones</td>\n",
       "      <td>192</td>\n",
       "      <td>96.0</td>\n",
       "      <td>male</td>\n",
       "      <td>26.041667</td>\n",
       "    </tr>\n",
       "    <tr>\n",
       "      <th>Jerry</th>\n",
       "      <td>Allen</td>\n",
       "      <td>204</td>\n",
       "      <td>91.0</td>\n",
       "      <td>male</td>\n",
       "      <td>21.866590</td>\n",
       "    </tr>\n",
       "    <tr>\n",
       "      <th>Billy</th>\n",
       "      <td>Wright</td>\n",
       "      <td>180</td>\n",
       "      <td>66.0</td>\n",
       "      <td>male</td>\n",
       "      <td>20.370370</td>\n",
       "    </tr>\n",
       "    <tr>\n",
       "      <th>Earl</th>\n",
       "      <td>Green</td>\n",
       "      <td>184</td>\n",
       "      <td>52.0</td>\n",
       "      <td>male</td>\n",
       "      <td>15.359168</td>\n",
       "    </tr>\n",
       "  </tbody>\n",
       "</table>\n",
       "</div>"
      ],
      "text/plain": [
       "          Nachname  Größe  Gewicht Geschlecht        BMI\n",
       "Vorname                                                 \n",
       "Randy       Carter    184     73.0       male  21.561909\n",
       "Stephanie    Smith    149     52.0     female  23.422368\n",
       "Cynthia     Watson    174     63.0     female  20.808561\n",
       "Jessie      Morgan    175     67.0       male  21.877551\n",
       "Katherine   Carter    183     81.0     female  24.187046\n",
       "David         Reed    187     60.0       male  17.158054\n",
       "Stephen      Jones    192     96.0       male  26.041667\n",
       "Jerry        Allen    204     91.0       male  21.866590\n",
       "Billy       Wright    180     66.0       male  20.370370\n",
       "Earl         Green    184     52.0       male  15.359168"
      ]
     },
     "execution_count": 8,
     "metadata": {},
     "output_type": "execute_result"
    }
   ],
   "source": [
    "#prog4book\n",
    "pop = pd.read_csv(\"data1/person_data.txt\", \n",
    "                  header=None,\n",
    "                  names=[\"Vorname\", \"Nachname\", \"Größe\", \n",
    "                         \"Gewicht\", \"Geschlecht\"],\n",
    "                  index_col=0,\n",
    "                  quotechar=\"'\", \n",
    "                  sep=\" \", \n",
    "                  thousands=\",\")\n",
    "\n",
    "pop.insert(loc=len(pop.columns), \n",
    "                   column='BMI',\n",
    "                   value=pop[\"Gewicht\"]*10000 / (pop[\"Größe\"]**2))\n",
    "\n",
    "pop.head(10)"
   ]
  }
 ],
 "metadata": {
  "kernelspec": {
   "display_name": "Python 3",
   "language": "python",
   "name": "python3"
  },
  "language_info": {
   "codemirror_mode": {
    "name": "ipython",
    "version": 3
   },
   "file_extension": ".py",
   "mimetype": "text/x-python",
   "name": "python",
   "nbconvert_exporter": "python",
   "pygments_lexer": "ipython3",
   "version": "3.6.5"
  },
  "toc": {
   "base_numbering": 1,
   "nav_menu": {},
   "number_sections": true,
   "sideBar": true,
   "skip_h1_title": false,
   "title_cell": "Table of Contents",
   "title_sidebar": "Contents",
   "toc_cell": false,
   "toc_position": {},
   "toc_section_display": true,
   "toc_window_display": false
  }
 },
 "nbformat": 4,
 "nbformat_minor": 2
}
