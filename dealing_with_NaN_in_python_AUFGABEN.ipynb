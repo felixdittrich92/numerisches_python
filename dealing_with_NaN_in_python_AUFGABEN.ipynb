{
 "cells": [
  {
   "cell_type": "code",
   "execution_count": 8,
   "metadata": {},
   "outputs": [],
   "source": [
    "# invisible\n",
    "import pandas as pd\n",
    "import numpy as np\n",
    "\n",
    "pd.set_option('display.max_colwidth', 65)\n",
    "pd.set_option('display.max_columns', 65)"
   ]
  },
  {
   "cell_type": "code",
   "execution_count": 9,
   "metadata": {},
   "outputs": [],
   "source": [
    "# invisible\n",
    "temp_df = pd.read_csv(\"data1/temperatures.csv\",\n",
    "                      sep=\";\",\n",
    "                      index_col=0,\n",
    "                      decimal=\",\")\n"
   ]
  },
  {
   "cell_type": "code",
   "execution_count": 10,
   "metadata": {},
   "outputs": [
    {
     "name": "stdout",
     "output_type": "stream",
     "text": [
      "          sensor1  sensor2  sensor3  sensor4  sensor5  sensor6\n",
      "time                                                          \n",
      "06:00:00     True     True     True     True     True     True\n",
      "06:15:00     True     True     True     True     True     True\n",
      "06:30:00     True    False     True    False     True     True\n",
      "06:45:00     True     True     True     True     True     True\n",
      "07:00:00     True     True    False     True     True     True\n"
     ]
    }
   ],
   "source": [
    "# invisible\n",
    "random_df = pd.DataFrame(np.random.random(size=(54, 6)), \n",
    "                         columns=temp_df.columns.values, \n",
    "                         index=temp_df.index)\n",
    "nan_df = pd.DataFrame(np.nan,\n",
    "                      columns=temp_df.columns.values, \n",
    "                      index=temp_df.index)\n",
    "df_bool = random_df<0.8\n",
    "\n",
    "print(df_bool[:5])"
   ]
  },
  {
   "cell_type": "code",
   "execution_count": 14,
   "metadata": {
    "scrolled": true
   },
   "outputs": [
    {
     "name": "stdout",
     "output_type": "stream",
     "text": [
      "          sensor1  sensor2  sensor3  sensor4  sensor5  sensor6\n",
      "time                                                          \n",
      "06:00:00     14.3     13.7     14.2     14.3     13.5     13.6\n",
      "06:15:00     14.5     14.5     14.0     15.0     14.5     14.7\n",
      "06:30:00     14.6      NaN     14.8      NaN     14.0     14.2\n",
      "06:45:00     14.8     14.5     15.6     15.2     14.7     14.6\n",
      "07:00:00     15.0     14.9      NaN     15.6     14.0     15.3\n",
      "07:15:00     15.2     15.2      NaN     15.3     15.5      NaN\n",
      "07:30:00     15.4     15.3      NaN     15.6     14.7     15.1\n",
      "07:45:00     15.5     14.8     15.4     15.5      NaN     14.9\n",
      "08:00:00      NaN      NaN     15.9      NaN     15.4     15.4\n",
      "08:15:00      NaN     15.8     15.9     16.9     16.0      NaN\n"
     ]
    }
   ],
   "source": [
    "# invisible\n",
    "disturbed_data = temp_df.where(df_bool, nan_df)\n",
    "\n",
    "disturbed_data.to_csv(\"data1/temperatures_with_NaN.csv\")\n",
    "print(disturbed_data[:10])"
   ]
  },
  {
   "cell_type": "markdown",
   "metadata": {},
   "source": [
    "## Aufgaben zum Kapitel \"Umgang mit NaN\""
   ]
  },
  {
   "cell_type": "markdown",
   "metadata": {},
   "source": [
    "### Aufgaben:\n",
    "\n",
    "1. Aufgabe:\n",
    "\n",
    "In diesem Kapitel hatten wir das DataFrame ```disturbed_data``` mit gestörten Temperaturmesswerten benutzt. Wir hatten es gefiltert, indem wir nur Zeilen zugelassen hatten, die höchstens ein NaN enthalten. Erzeugen Sie nun ein etwas fehlertoleranteres DataFrame, indem maximal zwei NaN-Werte erlaubt sind.\n",
    "\n",
    "Alles, was wir tun müssen, ist, den Schlüsselwortparameter ```thresh``` auf 4 zu setzen, d.h. wir verlangen, dass mindestens 4 gültige Werte in einer Zeile vorkommen. Dies bedeutet andersherum, dass nun zwei Werte NaN sein können:"
   ]
  },
  {
   "cell_type": "code",
   "execution_count": 12,
   "metadata": {},
   "outputs": [
    {
     "name": "stdout",
     "output_type": "stream",
     "text": [
      "          sensor1  sensor2  sensor3  sensor4  sensor5  sensor6\n",
      "time                                                          \n",
      "06:00:00     14.3     13.7     14.2     14.3     13.5     13.6\n",
      "06:15:00     14.5     14.5     14.0     15.0     14.5     14.7\n",
      "06:30:00     14.6      NaN     14.8      NaN     14.0     14.2\n",
      "06:45:00     14.8     14.5     15.6     15.2     14.7     14.6\n",
      "07:00:00     15.0     14.9      NaN     15.6     14.0     15.3\n",
      "07:15:00     15.2     15.2      NaN     15.3     15.5      NaN\n",
      "07:30:00     15.4     15.3      NaN     15.6     14.7     15.1\n"
     ]
    }
   ],
   "source": [
    "#prog4book\n",
    "\n",
    "cleansed_df = disturbed_data.dropna(thresh=4, axis=0)\n",
    "print(cleansed_df[:7])"
   ]
  },
  {
   "cell_type": "markdown",
   "metadata": {},
   "source": [
    "2. Aufgabe:\n",
    "\n",
    "Erzeugen Sie nun ein DataFrame, in dem es nur noch eine Spalte mit den Durchschnittswerten gibt."
   ]
  },
  {
   "cell_type": "code",
   "execution_count": 13,
   "metadata": {
    "scrolled": true
   },
   "outputs": [
    {
     "name": "stdout",
     "output_type": "stream",
     "text": [
      "          temperature\n",
      "time                 \n",
      "06:00:00    13.933333\n",
      "06:15:00    14.533333\n",
      "06:30:00    14.400000\n",
      "06:45:00    14.900000\n",
      "07:00:00    14.960000\n",
      "07:15:00    15.300000\n"
     ]
    }
   ],
   "source": [
    "#prog4book\n",
    "\n",
    "average_temp_series = cleansed_df.mean(axis=1)\n",
    "sensors = cleansed_df.columns.values\n",
    "df = cleansed_df.drop(sensors, axis=1)\n",
    "\n",
    "df = df.assign(temperature=average_temp_series)\n",
    "print(df[:6])"
   ]
  }
 ],
 "metadata": {
  "kernelspec": {
   "display_name": "Python 3",
   "language": "python",
   "name": "python3"
  },
  "language_info": {
   "codemirror_mode": {
    "name": "ipython",
    "version": 3
   },
   "file_extension": ".py",
   "mimetype": "text/x-python",
   "name": "python",
   "nbconvert_exporter": "python",
   "pygments_lexer": "ipython3",
   "version": "3.6.5"
  },
  "toc": {
   "base_numbering": 1,
   "nav_menu": {},
   "number_sections": true,
   "sideBar": true,
   "skip_h1_title": false,
   "title_cell": "Table of Contents",
   "title_sidebar": "Contents",
   "toc_cell": false,
   "toc_position": {},
   "toc_section_display": true,
   "toc_window_display": false
  }
 },
 "nbformat": 4,
 "nbformat_minor": 2
}
